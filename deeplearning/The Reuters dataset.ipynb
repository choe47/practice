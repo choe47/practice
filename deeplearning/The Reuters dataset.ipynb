{
 "cells": [
  {
   "cell_type": "code",
   "execution_count": 21,
   "metadata": {},
   "outputs": [],
   "source": [
    "import keras\n",
    "import numpy as np"
   ]
  },
  {
   "cell_type": "code",
   "execution_count": 22,
   "metadata": {},
   "outputs": [],
   "source": [
    "from keras.datasets import reuters\n",
    "\n",
    "(train_data, train_labels), (test_data, test_labels) = reuters.load_data(num_words=10000)"
   ]
  },
  {
   "cell_type": "code",
   "execution_count": 23,
   "metadata": {},
   "outputs": [
    {
     "data": {
      "text/plain": [
       "8982"
      ]
     },
     "execution_count": 23,
     "metadata": {},
     "output_type": "execute_result"
    }
   ],
   "source": [
    "len(train_data)"
   ]
  },
  {
   "cell_type": "code",
   "execution_count": 24,
   "metadata": {},
   "outputs": [
    {
     "data": {
      "text/plain": [
       "2246"
      ]
     },
     "execution_count": 24,
     "metadata": {},
     "output_type": "execute_result"
    }
   ],
   "source": [
    "len(test_data)"
   ]
  },
  {
   "cell_type": "code",
   "execution_count": 25,
   "metadata": {},
   "outputs": [
    {
     "data": {
      "text/plain": [
       "[1,\n",
       " 2,\n",
       " 2,\n",
       " 8,\n",
       " 43,\n",
       " 10,\n",
       " 447,\n",
       " 5,\n",
       " 25,\n",
       " 207,\n",
       " 270,\n",
       " 5,\n",
       " 3095,\n",
       " 111,\n",
       " 16,\n",
       " 369,\n",
       " 186,\n",
       " 90,\n",
       " 67,\n",
       " 7,\n",
       " 89,\n",
       " 5,\n",
       " 19,\n",
       " 102,\n",
       " 6,\n",
       " 19,\n",
       " 124,\n",
       " 15,\n",
       " 90,\n",
       " 67,\n",
       " 84,\n",
       " 22,\n",
       " 482,\n",
       " 26,\n",
       " 7,\n",
       " 48,\n",
       " 4,\n",
       " 49,\n",
       " 8,\n",
       " 864,\n",
       " 39,\n",
       " 209,\n",
       " 154,\n",
       " 6,\n",
       " 151,\n",
       " 6,\n",
       " 83,\n",
       " 11,\n",
       " 15,\n",
       " 22,\n",
       " 155,\n",
       " 11,\n",
       " 15,\n",
       " 7,\n",
       " 48,\n",
       " 9,\n",
       " 4579,\n",
       " 1005,\n",
       " 504,\n",
       " 6,\n",
       " 258,\n",
       " 6,\n",
       " 272,\n",
       " 11,\n",
       " 15,\n",
       " 22,\n",
       " 134,\n",
       " 44,\n",
       " 11,\n",
       " 15,\n",
       " 16,\n",
       " 8,\n",
       " 197,\n",
       " 1245,\n",
       " 90,\n",
       " 67,\n",
       " 52,\n",
       " 29,\n",
       " 209,\n",
       " 30,\n",
       " 32,\n",
       " 132,\n",
       " 6,\n",
       " 109,\n",
       " 15,\n",
       " 17,\n",
       " 12]"
      ]
     },
     "execution_count": 25,
     "metadata": {},
     "output_type": "execute_result"
    }
   ],
   "source": [
    "train_data[0]"
   ]
  },
  {
   "cell_type": "code",
   "execution_count": 26,
   "metadata": {},
   "outputs": [],
   "source": [
    "\n",
    "word_index = reuters.get_word_index()\n",
    "reverse_word_index = dict([(value, key) for (key, value) in word_index.items()])\n",
    "# Note that our indices were offset by 3\n",
    "# because 0, 1 and 2 are reserved indices for \"padding\", \"start of sequence\", and \"unknown\".\n",
    "decoded_newswire = ' '.join([reverse_word_index.get(i - 3, '?') for i in train_data[0]])"
   ]
  },
  {
   "cell_type": "code",
   "execution_count": 27,
   "metadata": {},
   "outputs": [
    {
     "data": {
      "text/plain": [
       "'? ? ? said as a result of its december acquisition of space co it expects earnings per share in 1987 of 1 15 to 1 30 dlrs per share up from 70 cts in 1986 the company said pretax net should rise to nine to 10 mln dlrs from six mln dlrs in 1986 and rental operation revenues to 19 to 22 mln dlrs from 12 5 mln dlrs it said cash flow per share this year should be 2 50 to three dlrs reuter 3'"
      ]
     },
     "execution_count": 27,
     "metadata": {},
     "output_type": "execute_result"
    }
   ],
   "source": [
    "decoded_newswire"
   ]
  },
  {
   "cell_type": "code",
   "execution_count": 28,
   "metadata": {},
   "outputs": [
    {
     "data": {
      "text/plain": [
       "3"
      ]
     },
     "execution_count": 28,
     "metadata": {},
     "output_type": "execute_result"
    }
   ],
   "source": [
    "train_labels[10]"
   ]
  },
  {
   "cell_type": "code",
   "execution_count": 29,
   "metadata": {},
   "outputs": [],
   "source": [
    "def vectorize_sequences(sequences, dimension=10000):\n",
    "    results = np.zeros((len(sequences), dimension))\n",
    "    for i, sequence in enumerate(sequences):\n",
    "        results[i, sequence] = 1.\n",
    "    return results\n",
    "\n",
    "# Our vectorized training data\n",
    "x_train = vectorize_sequences(train_data)\n",
    "# Our vectorized test data\n",
    "x_test = vectorize_sequences(test_data)"
   ]
  },
  {
   "cell_type": "code",
   "execution_count": 30,
   "metadata": {},
   "outputs": [],
   "source": [
    "def to_one_hot(labels, dimension=46):\n",
    "    results = np.zeros((len(labels), dimension))\n",
    "    for i, label in enumerate(labels):\n",
    "        results[i, label] = 1.\n",
    "    return results\n",
    "\n",
    "# Our vectorized training labels\n",
    "one_hot_train_labels = to_one_hot(train_labels)\n",
    "# Our vectorized test labels\n",
    "one_hot_test_labels = to_one_hot(test_labels)"
   ]
  },
  {
   "cell_type": "code",
   "execution_count": 31,
   "metadata": {},
   "outputs": [],
   "source": [
    "from keras.utils.np_utils import to_categorical\n",
    "\n",
    "one_hot_train_labels = to_categorical(train_labels)\n",
    "one_hot_test_labels = to_categorical(test_labels)"
   ]
  },
  {
   "cell_type": "code",
   "execution_count": 32,
   "metadata": {},
   "outputs": [],
   "source": [
    "from keras import models\n",
    "from keras import layers\n",
    "model = models.Sequential()\n",
    "model.add(layers.Dense(120, activation='relu', input_shape=(10000,)))\n",
    "model.add(layers.Dense(120, activation='relu'))\n",
    "model.add(layers.Dense(120, activation='relu'))\n",
    "model.add(layers.Dense(120, activation='relu'))\n",
    "model.add(layers.Dense(46, activation='softmax'))"
   ]
  },
  {
   "cell_type": "code",
   "execution_count": 33,
   "metadata": {},
   "outputs": [],
   "source": [
    "model.compile(optimizer='rmsprop',\n",
    "              loss='categorical_crossentropy',\n",
    "              metrics=['accuracy'])"
   ]
  },
  {
   "cell_type": "code",
   "execution_count": 34,
   "metadata": {},
   "outputs": [],
   "source": [
    "x_val = x_train[:1000]\n",
    "partial_x_train = x_train[1000:]\n",
    "\n",
    "y_val = one_hot_train_labels[:1000]\n",
    "partial_y_train = one_hot_train_labels[1000:]"
   ]
  },
  {
   "cell_type": "code",
   "execution_count": 35,
   "metadata": {},
   "outputs": [
    {
     "name": "stdout",
     "output_type": "stream",
     "text": [
      "Train on 7982 samples, validate on 1000 samples\n",
      "Epoch 1/10\n",
      "7982/7982 [==============================] - 2s 190us/step - loss: 2.2936 - acc: 0.4982 - val_loss: 1.5259 - val_acc: 0.6490\n",
      "Epoch 2/10\n",
      "7982/7982 [==============================] - 1s 110us/step - loss: 1.3012 - acc: 0.7020 - val_loss: 1.2610 - val_acc: 0.6990\n",
      "Epoch 3/10\n",
      "7982/7982 [==============================] - 1s 107us/step - loss: 0.9826 - acc: 0.7658 - val_loss: 1.1188 - val_acc: 0.7380\n",
      "Epoch 4/10\n",
      "7982/7982 [==============================] - 1s 107us/step - loss: 0.7633 - acc: 0.8165 - val_loss: 1.0301 - val_acc: 0.7760\n",
      "Epoch 5/10\n",
      "7982/7982 [==============================] - 1s 119us/step - loss: 0.5761 - acc: 0.8667 - val_loss: 1.0774 - val_acc: 0.7640\n",
      "Epoch 6/10\n",
      "7982/7982 [==============================] - 1s 112us/step - loss: 0.4334 - acc: 0.9010 - val_loss: 1.0629 - val_acc: 0.7820\n",
      "Epoch 7/10\n",
      "7982/7982 [==============================] - 1s 110us/step - loss: 0.3717 - acc: 0.9123 - val_loss: 1.0226 - val_acc: 0.7760\n",
      "Epoch 8/10\n",
      "7982/7982 [==============================] - 1s 108us/step - loss: 0.2534 - acc: 0.9409 - val_loss: 1.0029 - val_acc: 0.8020\n",
      "Epoch 9/10\n",
      "7982/7982 [==============================] - 1s 109us/step - loss: 0.2201 - acc: 0.9475 - val_loss: 1.5857 - val_acc: 0.7030\n",
      "Epoch 10/10\n",
      "7982/7982 [==============================] - 1s 111us/step - loss: 0.2183 - acc: 0.9415 - val_loss: 1.0633 - val_acc: 0.8100\n"
     ]
    }
   ],
   "source": [
    "history = model.fit(partial_x_train,\n",
    "                    partial_y_train,\n",
    "                    epochs=10,\n",
    "                    batch_size=512,\n",
    "                    validation_data=(x_val, y_val))"
   ]
  },
  {
   "cell_type": "code",
   "execution_count": 36,
   "metadata": {},
   "outputs": [
    {
     "data": {
      "text/plain": [
       "<Figure size 640x480 with 1 Axes>"
      ]
     },
     "metadata": {},
     "output_type": "display_data"
    }
   ],
   "source": [
    "import matplotlib.pyplot as plt\n",
    "\n",
    "loss = history.history['loss']\n",
    "val_loss = history.history['val_loss']\n",
    "\n",
    "epochs = range(1, len(loss) + 1)\n",
    "\n",
    "plt.plot(epochs, loss, 'bo', label='Training loss')\n",
    "plt.plot(epochs, val_loss, 'b', label='Validation loss')\n",
    "plt.title('Training and validation loss')\n",
    "plt.xlabel('Epochs')\n",
    "plt.ylabel('Loss')\n",
    "plt.legend()\n",
    "\n",
    "plt.show()"
   ]
  },
  {
   "cell_type": "code",
   "execution_count": 37,
   "metadata": {},
   "outputs": [
    {
     "data": {
      "image/png": "[encoded data removed]",
      "text/plain": [
       "<Figure size 432x288 with 1 Axes>"
      ]
     },
     "metadata": {
      "needs_background": "light"
     },
     "output_type": "display_data"
    }
   ],
   "source": [
    "plt.clf()   # clear figure\n",
    "\n",
    "acc = history.history['acc']\n",
    "val_acc = history.history['val_acc']\n",
    "\n",
    "plt.plot(epochs, acc, 'bo', label='Training acc')\n",
    "plt.plot(epochs, val_acc, 'b', label='Validation acc')\n",
    "plt.title('Training and validation accuracy')\n",
    "plt.xlabel('Epochs')\n",
    "plt.ylabel('Loss')\n",
    "plt.legend()\n",
    "\n",
    "plt.show()"
   ]
  },
  {
   "cell_type": "code",
   "execution_count": 38,
   "metadata": {},
   "outputs": [
    {
     "name": "stdout",
     "output_type": "stream",
     "text": [
      "Train on 7982 samples, validate on 1000 samples\n",
      "Epoch 1/20\n",
      "7982/7982 [==============================] - 1s 157us/step - loss: 2.9740 - acc: 0.4248 - val_loss: 1.9360 - val_acc: 0.6010\n",
      "Epoch 2/20\n",
      "7982/7982 [==============================] - 1s 97us/step - loss: 1.7505 - acc: 0.6277 - val_loss: 1.4291 - val_acc: 0.6720\n",
      "Epoch 3/20\n",
      "7982/7982 [==============================] - 1s 95us/step - loss: 1.3582 - acc: 0.6994 - val_loss: 1.2459 - val_acc: 0.7240\n",
      "Epoch 4/20\n",
      "7982/7982 [==============================] - 1s 93us/step - loss: 1.1523 - acc: 0.7418 - val_loss: 1.1467 - val_acc: 0.7470\n",
      "Epoch 5/20\n",
      "7982/7982 [==============================] - 1s 96us/step - loss: 1.0070 - acc: 0.7774 - val_loss: 1.0644 - val_acc: 0.7760\n",
      "Epoch 6/20\n",
      "7982/7982 [==============================] - 1s 92us/step - loss: 0.8660 - acc: 0.8034 - val_loss: 1.0319 - val_acc: 0.7770\n",
      "Epoch 7/20\n",
      "7982/7982 [==============================] - 1s 93us/step - loss: 0.7732 - acc: 0.8282 - val_loss: 0.9853 - val_acc: 0.8000\n",
      "Epoch 8/20\n",
      "7982/7982 [==============================] - 1s 91us/step - loss: 0.6809 - acc: 0.8472 - val_loss: 0.9612 - val_acc: 0.8020\n",
      "Epoch 9/20\n",
      "7982/7982 [==============================] - 1s 92us/step - loss: 0.6104 - acc: 0.8599 - val_loss: 0.9766 - val_acc: 0.7980\n",
      "Epoch 10/20\n",
      "7982/7982 [==============================] - 1s 91us/step - loss: 0.5584 - acc: 0.8698 - val_loss: 0.9267 - val_acc: 0.8230\n",
      "Epoch 11/20\n",
      "7982/7982 [==============================] - 1s 91us/step - loss: 0.4848 - acc: 0.8886 - val_loss: 0.9487 - val_acc: 0.8070\n",
      "Epoch 12/20\n",
      "7982/7982 [==============================] - 1s 104us/step - loss: 0.4421 - acc: 0.8969 - val_loss: 0.9282 - val_acc: 0.8140\n",
      "Epoch 13/20\n",
      "7982/7982 [==============================] - 1s 102us/step - loss: 0.4016 - acc: 0.9053 - val_loss: 0.9359 - val_acc: 0.8180\n",
      "Epoch 14/20\n",
      "7982/7982 [==============================] - 1s 92us/step - loss: 0.3695 - acc: 0.9151 - val_loss: 0.9368 - val_acc: 0.8130\n",
      "Epoch 15/20\n",
      "7982/7982 [==============================] - 1s 102us/step - loss: 0.3414 - acc: 0.9169 - val_loss: 0.9343 - val_acc: 0.8180\n",
      "Epoch 16/20\n",
      "7982/7982 [==============================] - 1s 98us/step - loss: 0.3069 - acc: 0.9277 - val_loss: 0.9584 - val_acc: 0.8080\n",
      "Epoch 17/20\n",
      "7982/7982 [==============================] - 1s 105us/step - loss: 0.2846 - acc: 0.9321 - val_loss: 0.9904 - val_acc: 0.8080\n",
      "Epoch 18/20\n",
      "7982/7982 [==============================] - 1s 101us/step - loss: 0.2679 - acc: 0.9369 - val_loss: 0.9765 - val_acc: 0.8120\n",
      "Epoch 19/20\n",
      "7982/7982 [==============================] - 1s 105us/step - loss: 0.2471 - acc: 0.9404 - val_loss: 1.0121 - val_acc: 0.8110\n",
      "Epoch 20/20\n",
      "7982/7982 [==============================] - 1s 101us/step - loss: 0.2403 - acc: 0.9406 - val_loss: 1.0144 - val_acc: 0.8090\n",
      "2246/2246 [==============================] - 0s 130us/step\n"
     ]
    }
   ],
   "source": [
    "model = models.Sequential()\n",
    "model.add(layers.Dense(64, activation='relu', input_shape=(10000,)))\n",
    "model.add(layers.Dense(64, activation='relu'))\n",
    "model.add(layers.Dropout(0.5))\n",
    "model.add(layers.Dense(46, activation='softmax'))\n",
    "\n",
    "model.compile(optimizer='rmsprop',\n",
    "              loss='categorical_crossentropy',\n",
    "              metrics=['accuracy'])\n",
    "model.fit(partial_x_train,\n",
    "          partial_y_train,\n",
    "          epochs=20,\n",
    "          batch_size=512,\n",
    "          validation_data=(x_val, y_val))\n",
    "results = model.evaluate(x_test, one_hot_test_labels)"
   ]
  },
  {
   "cell_type": "code",
   "execution_count": 39,
   "metadata": {},
   "outputs": [
    {
     "name": "stdout",
     "output_type": "stream",
     "text": [
      "1000/1000 [==============================] - 0s 126us/step\n",
      "\n",
      " 結果: 0.8090\n"
     ]
    }
   ],
   "source": [
    "print(\"\\n 結果: %.4f\" % (model.evaluate(x_val, y_val)[1]))"
   ]
  },
  {
   "cell_type": "code",
   "execution_count": 40,
   "metadata": {},
   "outputs": [
    {
     "data": {
      "text/plain": [
       "0.17586821015138024"
      ]
     },
     "execution_count": 40,
     "metadata": {},
     "output_type": "execute_result"
    }
   ],
   "source": [
    "import copy\n",
    "\n",
    "test_labels_copy = copy.copy(test_labels)\n",
    "np.random.shuffle(test_labels_copy)\n",
    "float(np.sum(np.array(test_labels) == np.array(test_labels_copy))) / len(test_labels)"
   ]
  },
  {
   "cell_type": "code",
   "execution_count": 41,
   "metadata": {},
   "outputs": [],
   "source": [
    "predictions = model.predict(x_test)"
   ]
  },
  {
   "cell_type": "code",
   "execution_count": 42,
   "metadata": {},
   "outputs": [],
   "source": [
    "y_train = np.array(train_labels)\n",
    "y_test = np.array(test_labels)"
   ]
  },
  {
   "cell_type": "code",
   "execution_count": 43,
   "metadata": {},
   "outputs": [],
   "source": [
    "model.compile(optimizer='rmsprop', loss='sparse_categorical_crossentropy', metrics=['acc'])"
   ]
  },
  {
   "cell_type": "code",
   "execution_count": 44,
   "metadata": {},
   "outputs": [
    {
     "name": "stdout",
     "output_type": "stream",
     "text": [
      "Train on 7982 samples, validate on 1000 samples\n",
      "Epoch 1/20\n",
      "7982/7982 [==============================] - 1s 183us/step - loss: 3.1108 - acc: 0.3500 - val_loss: 2.5270 - val_acc: 0.4170\n",
      "Epoch 2/20\n",
      "7982/7982 [==============================] - 1s 123us/step - loss: 2.1978 - acc: 0.4459 - val_loss: 2.0515 - val_acc: 0.4460\n",
      "Epoch 3/20\n",
      "7982/7982 [==============================] - 1s 125us/step - loss: 1.7764 - acc: 0.4721 - val_loss: 1.7175 - val_acc: 0.5480\n",
      "Epoch 4/20\n",
      "7982/7982 [==============================] - 1s 122us/step - loss: 1.4218 - acc: 0.6363 - val_loss: 1.4981 - val_acc: 0.6280\n",
      "Epoch 5/20\n",
      "7982/7982 [==============================] - 1s 122us/step - loss: 1.1995 - acc: 0.6709 - val_loss: 1.3915 - val_acc: 0.6540\n",
      "Epoch 6/20\n",
      "7982/7982 [==============================] - 1s 123us/step - loss: 1.0336 - acc: 0.7281 - val_loss: 1.3432 - val_acc: 0.6980\n",
      "Epoch 7/20\n",
      "7982/7982 [==============================] - 1s 128us/step - loss: 0.9215 - acc: 0.7598 - val_loss: 1.3174 - val_acc: 0.7000\n",
      "Epoch 8/20\n",
      "7982/7982 [==============================] - 1s 136us/step - loss: 0.8370 - acc: 0.7819 - val_loss: 1.3382 - val_acc: 0.7090\n",
      "Epoch 9/20\n",
      "7982/7982 [==============================] - 1s 157us/step - loss: 0.7663 - acc: 0.7994 - val_loss: 1.3453 - val_acc: 0.7120\n",
      "Epoch 10/20\n",
      "7982/7982 [==============================] - 1s 160us/step - loss: 0.7104 - acc: 0.8111 - val_loss: 1.3789 - val_acc: 0.7150\n",
      "Epoch 11/20\n",
      "7982/7982 [==============================] - 1s 152us/step - loss: 0.6587 - acc: 0.8236 - val_loss: 1.3907 - val_acc: 0.7110\n",
      "Epoch 12/20\n",
      "7982/7982 [==============================] - 1s 132us/step - loss: 0.6164 - acc: 0.8284 - val_loss: 1.4383 - val_acc: 0.7180\n",
      "Epoch 13/20\n",
      "7982/7982 [==============================] - 1s 163us/step - loss: 0.5784 - acc: 0.8409 - val_loss: 1.4549 - val_acc: 0.7160\n",
      "Epoch 14/20\n",
      "7982/7982 [==============================] - 1s 138us/step - loss: 0.5438 - acc: 0.8532 - val_loss: 1.5129 - val_acc: 0.7210\n",
      "Epoch 15/20\n",
      "7982/7982 [==============================] - 1s 147us/step - loss: 0.5150 - acc: 0.8593 - val_loss: 1.5616 - val_acc: 0.7050\n",
      "Epoch 16/20\n",
      "7982/7982 [==============================] - 1s 137us/step - loss: 0.4890 - acc: 0.8656 - val_loss: 1.6012 - val_acc: 0.7140\n",
      "Epoch 17/20\n",
      "7982/7982 [==============================] - 1s 144us/step - loss: 0.4653 - acc: 0.8706 - val_loss: 1.6630 - val_acc: 0.7130\n",
      "Epoch 18/20\n",
      "7982/7982 [==============================] - 1s 138us/step - loss: 0.4461 - acc: 0.8755 - val_loss: 1.6904 - val_acc: 0.7110\n",
      "Epoch 19/20\n",
      "7982/7982 [==============================] - 1s 137us/step - loss: 0.4268 - acc: 0.8835 - val_loss: 1.7837 - val_acc: 0.7150\n",
      "Epoch 20/20\n",
      "7982/7982 [==============================] - 1s 133us/step - loss: 0.4132 - acc: 0.8855 - val_loss: 1.7778 - val_acc: 0.7130\n"
     ]
    },
    {
     "data": {
      "text/plain": [
       "<keras.callbacks.History at 0x1dc89f31ef0>"
      ]
     },
     "execution_count": 44,
     "metadata": {},
     "output_type": "execute_result"
    }
   ],
   "source": [
    "\n",
    "model = models.Sequential()\n",
    "model.add(layers.Dense(64, activation='relu', input_shape=(10000,)))\n",
    "model.add(layers.Dense(4, activation='relu'))\n",
    "model.add(layers.Dense(46, activation='softmax'))\n",
    "\n",
    "model.compile(optimizer='rmsprop',\n",
    "              loss='categorical_crossentropy',\n",
    "              metrics=['accuracy'])\n",
    "model.fit(partial_x_train,\n",
    "          partial_y_train,\n",
    "          epochs=20,\n",
    "          batch_size=128,\n",
    "          validation_data=(x_val, y_val))"
   ]
  },
  {
   "cell_type": "code",
   "execution_count": 45,
   "metadata": {},
   "outputs": [],
   "source": [
    "model = models.Sequential()\n",
    "model.add(layers.Dense(64, activation='relu', input_shape=(10000,)))\n",
    "model.add(layers.Dense(64, activation='relu'))\n",
    "model.add(layers.Dense(46, activation='softmax'))\n",
    "\n",
    "model.compile(optimizer='rmsprop',\n",
    "              loss='categorical_crossentropy',\n",
    "              metrics=['accuracy'])"
   ]
  },
  {
   "cell_type": "code",
   "execution_count": 46,
   "metadata": {},
   "outputs": [
    {
     "name": "stdout",
     "output_type": "stream",
     "text": [
      "Train on 7982 samples, validate on 1000 samples\n",
      "Epoch 1/15\n",
      "7982/7982 [==============================] - 1s 153us/step - loss: 2.6525 - acc: 0.5043 - val_loss: 1.7579 - val_acc: 0.6060\n",
      "Epoch 2/15\n",
      "7982/7982 [==============================] - 1s 90us/step - loss: 1.4612 - acc: 0.6901 - val_loss: 1.3186 - val_acc: 0.7090\n",
      "Epoch 3/15\n",
      "7982/7982 [==============================] - 1s 91us/step - loss: 1.0736 - acc: 0.7697 - val_loss: 1.1468 - val_acc: 0.7480\n",
      "Epoch 4/15\n",
      "7982/7982 [==============================] - 1s 95us/step - loss: 0.8470 - acc: 0.8213 - val_loss: 1.0484 - val_acc: 0.7780\n",
      "Epoch 5/15\n",
      "7982/7982 [==============================] - 1s 97us/step - loss: 0.6741 - acc: 0.8566 - val_loss: 0.9796 - val_acc: 0.7990\n",
      "Epoch 6/15\n",
      "7982/7982 [==============================] - 1s 99us/step - loss: 0.5417 - acc: 0.8877 - val_loss: 0.9371 - val_acc: 0.8020\n",
      "Epoch 7/15\n",
      "7982/7982 [==============================] - 1s 99us/step - loss: 0.4359 - acc: 0.9103 - val_loss: 0.9045 - val_acc: 0.8110\n",
      "Epoch 8/15\n",
      "7982/7982 [==============================] - 1s 101us/step - loss: 0.3585 - acc: 0.9257 - val_loss: 0.8878 - val_acc: 0.8220\n",
      "Epoch 9/15\n",
      "7982/7982 [==============================] - 1s 97us/step - loss: 0.2953 - acc: 0.9371 - val_loss: 0.8795 - val_acc: 0.8120\n",
      "Epoch 10/15\n",
      "7982/7982 [==============================] - 1s 97us/step - loss: 0.2490 - acc: 0.9436 - val_loss: 0.9128 - val_acc: 0.8120\n",
      "Epoch 11/15\n",
      "7982/7982 [==============================] - 1s 97us/step - loss: 0.2169 - acc: 0.9489 - val_loss: 0.9219 - val_acc: 0.8020\n",
      "Epoch 12/15\n",
      "7982/7982 [==============================] - 1s 98us/step - loss: 0.1893 - acc: 0.9513 - val_loss: 0.9709 - val_acc: 0.7990\n",
      "Epoch 13/15\n",
      "7982/7982 [==============================] - 1s 99us/step - loss: 0.1684 - acc: 0.9533 - val_loss: 0.9585 - val_acc: 0.8050\n",
      "Epoch 14/15\n",
      "7982/7982 [==============================] - 1s 100us/step - loss: 0.1513 - acc: 0.9551 - val_loss: 0.9622 - val_acc: 0.8140\n",
      "Epoch 15/15\n",
      "7982/7982 [==============================] - 1s 98us/step - loss: 0.1456 - acc: 0.9543 - val_loss: 0.9788 - val_acc: 0.8090\n"
     ]
    }
   ],
   "source": [
    "history = model.fit(partial_x_train,\n",
    "                    partial_y_train,\n",
    "                    epochs=15,\n",
    "                    batch_size=512,\n",
    "                    validation_data=(x_val, y_val))"
   ]
  },
  {
   "cell_type": "code",
   "execution_count": 47,
   "metadata": {},
   "outputs": [
    {
     "data": {
      "image/png": "[encoded data removed]",
      "text/plain": [
       "<Figure size 432x288 with 1 Axes>"
      ]
     },
     "metadata": {
      "needs_background": "light"
     },
     "output_type": "display_data"
    }
   ],
   "source": [
    "loss = history.history['loss']\n",
    "val_loss = history.history['val_loss']\n",
    "\n",
    "epochs = range(1, len(loss) + 1)\n",
    "\n",
    "plt.plot(epochs, loss, 'bo', label='Training loss')\n",
    "plt.plot(epochs, val_loss, 'b', label='Validation loss')\n",
    "plt.title('Training and validation loss')\n",
    "plt.xlabel('Epochs')\n",
    "plt.ylabel('Loss')\n",
    "plt.legend()\n",
    "\n",
    "plt.show()"
   ]
  },
  {
   "cell_type": "code",
   "execution_count": null,
   "metadata": {},
   "outputs": [],
   "source": []
  }
 ],
 "metadata": {
  "kernelspec": {
   "display_name": "Python 3",
   "language": "python",
   "name": "python3"
  },
  "language_info": {
   "codemirror_mode": {
    "name": "ipython",
    "version": 3
   },
   "file_extension": ".py",
   "mimetype": "text/x-python",
   "name": "python",
   "nbconvert_exporter": "python",
   "pygments_lexer": "ipython3",
   "version": "3.6.9"
  }
 },
 "nbformat": 4,
 "nbformat_minor": 2
}
